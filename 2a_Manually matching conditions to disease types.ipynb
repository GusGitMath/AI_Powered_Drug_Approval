{
 "cells": [
  {
   "cell_type": "code",
   "execution_count": 1,
   "id": "c493f27b",
   "metadata": {},
   "outputs": [
    {
     "name": "stderr",
     "output_type": "stream",
     "text": [
      "C:\\Users\\mofei\\AppData\\Roaming\\Python\\Python39\\site-packages\\fuzzywuzzy\\fuzz.py:11: UserWarning: Using slow pure-python SequenceMatcher. Install python-Levenshtein to remove this warning\n",
      "  warnings.warn('Using slow pure-python SequenceMatcher. Install python-Levenshtein to remove this warning')\n"
     ]
    }
   ],
   "source": [
    "import pandas as pd\n",
    "from fuzzywuzzy import process\n",
    "from collections import Counter\n",
    "import re\n"
   ]
  },
  {
   "cell_type": "code",
   "execution_count": 2,
   "id": "570c14cf",
   "metadata": {},
   "outputs": [
    {
     "name": "stderr",
     "output_type": "stream",
     "text": [
      "C:\\Users\\mofei\\AppData\\Local\\Temp\\ipykernel_13632\\769174394.py:1: DtypeWarning: Columns (24) have mixed types. Specify dtype option on import or set low_memory=False.\n",
      "  df = pd.read_csv('Data/merged_df_1021_p2_p4filter.csv', sep='|')\n"
     ]
    }
   ],
   "source": [
    "df = pd.read_csv('Data/merged_df_1021_p2_p4filter.csv', sep='|')"
   ]
  },
  {
   "cell_type": "code",
   "execution_count": 3,
   "id": "b67002bb",
   "metadata": {},
   "outputs": [],
   "source": [
    "dt = pd.read_csv('Data/disease types.csv', header=None, names=[\"disease_type\"]).replace({'\"': ''}, regex=True)\n",
    "con = list(df['conditions'].unique())\n",
    "disease_type = list(dt[\"disease_type\"])\n",
    "fuzzy_matches = {}\n",
    "for condition in con:\n",
    "    best_match = process.extractOne(condition, disease_type)\n",
    "    if best_match[1] > 80:  # Example threshold for similarity\n",
    "        fuzzy_matches[condition] = best_match[0]"
   ]
  },
  {
   "cell_type": "code",
   "execution_count": 4,
   "id": "d2421de3",
   "metadata": {},
   "outputs": [],
   "source": [
    "#disease map\n",
    "dm = pd.DataFrame({'conditions': con})\n",
    "\n",
    "# Create a dictionary with zero-filled columns for all diseases\n",
    "disease_columns = {disease: [0] * len(dm) for disease in disease_type}\n",
    "\n",
    "# Concatenate the columns to the original DataFrame\n",
    "dm = pd.concat([dm, pd.DataFrame(disease_columns)], axis=1)"
   ]
  },
  {
   "cell_type": "code",
   "execution_count": 5,
   "id": "a067e096",
   "metadata": {},
   "outputs": [
    {
     "name": "stdout",
     "output_type": "stream",
     "text": [
      "Top 20 words appearing in conditions without any 1s:\n",
      "stage: 285\n",
      "cell: 275\n",
      "lymphoma: 259\n",
      "cancer: 234\n",
      "leukemia: 206\n",
      "acute: 157\n",
      "adult: 151\n",
      "carcinoma: 142\n",
      "recurrent: 139\n",
      "non: 87\n",
      "chronic: 87\n",
      "childhood: 85\n",
      "of: 74\n",
      "syndrome: 72\n",
      "small: 69\n",
      "lymphoblastic: 69\n",
      "ii: 69\n",
      "iv: 64\n",
      "disease: 63\n",
      "with: 63\n",
      "and: 60\n",
      "myeloid: 59\n",
      "hodgkin: 58\n",
      "lung: 54\n",
      "t: 52\n",
      "iii: 51\n",
      "breast: 46\n",
      "the: 45\n",
      "metastatic: 43\n",
      "large: 43\n",
      "refractory: 42\n",
      "b: 42\n",
      "grade: 42\n",
      "disorder: 40\n",
      "diffuse: 37\n",
      "squamous: 35\n",
      "advanced: 34\n",
      "follicular: 34\n",
      "i: 34\n",
      "tumor: 33\n",
      "contiguous: 32\n",
      "neoplasms: 31\n",
      "adenocarcinoma: 31\n",
      "s: 31\n",
      "type: 31\n",
      "renal: 30\n",
      "lymphocytic: 30\n",
      "1: 30\n",
      "primary: 30\n",
      "myelodysplastic: 28\n"
     ]
    }
   ],
   "source": [
    "no_ones_mask = (dm.iloc[:, 1:] == 0).all(axis=1)\n",
    "conditions_without_ones = dm.loc[no_ones_mask, 'conditions']\n",
    "\n",
    "# Step 2: Split the conditions by space and parentheses, and clean the words\n",
    "all_words = []\n",
    "for condition in conditions_without_ones:\n",
    "    # Split by space and parentheses, and clean up empty strings\n",
    "    words = re.findall(r'\\b\\w+\\b', condition.lower())  # This regex finds words\n",
    "    all_words.extend(words)\n",
    "\n",
    "# Step 3: Count the occurrences of each word\n",
    "word_counts = Counter(all_words)\n",
    "\n",
    "# Step 4: Retrieve the top 20 words\n",
    "top_20_words = word_counts.most_common(50)\n",
    "\n",
    "# Print the top 20 words\n",
    "print(\"Top 20 words appearing in conditions without any 1s:\")\n",
    "for word, count in top_20_words:\n",
    "    print(f\"{word}: {count}\")"
   ]
  },
  {
   "cell_type": "code",
   "execution_count": 6,
   "id": "08f553f9",
   "metadata": {},
   "outputs": [
    {
     "name": "stdout",
     "output_type": "stream",
     "text": [
      "0                              non-small cell lung cancer\n",
      "5                                           breast cancer\n",
      "6                                         prostate cancer\n",
      "8                                metastatic breast cancer\n",
      "11                             non small cell lung cancer\n",
      "                              ...                        \n",
      "2221                   castrate resistant prostate cancer\n",
      "2222                castration resistant prostatic cancer\n",
      "2226    phase 1 portion : non small cell lung cancer(n...\n",
      "2227       phase 2 portion : small cell lung cancer(sclc)\n",
      "2269    advanced or metastatic non-small cell lung cancer\n",
      "Name: conditions, Length: 238, dtype: object\n"
     ]
    }
   ],
   "source": [
    "non_ones_mask = (dm.iloc[:, 1:] == 0).all(axis=1)\n",
    "\n",
    "# Filter the DataFrame to include only the rows without any '1's\n",
    "df_no_ones = dm[non_ones_mask]\n",
    "\n",
    "# Now find conditions that include the word \"cancer\"\n",
    "conditions_with_words = df_no_ones[df_no_ones['conditions'].str.contains(\"cancer\", case=False, na=False)]\n",
    "\n",
    "# Display the resulting conditions\n",
    "print(conditions_with_words['conditions'])"
   ]
  },
  {
   "cell_type": "code",
   "execution_count": 7,
   "id": "4f7a14a4",
   "metadata": {},
   "outputs": [],
   "source": [
    "disease_type = \"Cancer\"\n",
    "conditions_list = [\"breast cancer\", \"prostate cancer\"]\n",
    "conditions_list = [x.lower() for x in conditions_list]"
   ]
  },
  {
   "cell_type": "code",
   "execution_count": 8,
   "id": "ef08deff",
   "metadata": {},
   "outputs": [],
   "source": [
    "for idx, condition in enumerate(dm['conditions']):\n",
    "    if condition.lower() in conditions_list and (dm.iloc[idx, 1:] == 0).all() and (disease_type in dm.columns):\n",
    "        dm.loc[idx, disease_type] = 1"
   ]
  },
  {
   "cell_type": "code",
   "execution_count": 9,
   "id": "56726b87",
   "metadata": {},
   "outputs": [
    {
     "name": "stdout",
     "output_type": "stream",
     "text": [
      "Number of rows without any 1s: 2282\n"
     ]
    }
   ],
   "source": [
    "no_ones_mask = (dm.iloc[:, 1:] == 0).all(axis=1)\n",
    "\n",
    "# Count the number of rows where the condition is True (all zeros)\n",
    "rows_with_no_ones = no_ones_mask.sum()\n",
    "\n",
    "print(f\"Number of rows without any 1s: {rows_with_no_ones}\")"
   ]
  },
  {
   "cell_type": "code",
   "execution_count": 10,
   "id": "52c287a1",
   "metadata": {},
   "outputs": [
    {
     "name": "stdout",
     "output_type": "stream",
     "text": [
      "Number of columns without any 1s: 151\n"
     ]
    }
   ],
   "source": [
    "no_ones_col_mask = (dm.iloc[:, 1:] == 0).all(axis=0)\n",
    "\n",
    "# Count the number of columns where the condition is True (all zeros)\n",
    "cols_with_no_ones = no_ones_col_mask.sum()\n",
    "\n",
    "print(f\"Number of columns without any 1s: {cols_with_no_ones}\")"
   ]
  }
 ],
 "metadata": {
  "kernelspec": {
   "display_name": "Python 3 (ipykernel)",
   "language": "python",
   "name": "python3"
  },
  "language_info": {
   "codemirror_mode": {
    "name": "ipython",
    "version": 3
   },
   "file_extension": ".py",
   "mimetype": "text/x-python",
   "name": "python",
   "nbconvert_exporter": "python",
   "pygments_lexer": "ipython3",
   "version": "3.9.12"
  }
 },
 "nbformat": 4,
 "nbformat_minor": 5
}
